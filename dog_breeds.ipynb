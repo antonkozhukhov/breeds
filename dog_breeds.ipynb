{
  "nbformat": 4,
  "nbformat_minor": 0,
  "metadata": {
    "colab": {
      "provenance": [],
      "gpuType": "T4",
      "mount_file_id": "1DhWBw3CvMzOynEiegsIt88P6DkBnEueQ",
      "authorship_tag": "ABX9TyM7/vFKZ2rc/IIHiFR7b02f",
      "include_colab_link": true
    },
    "kernelspec": {
      "name": "python3",
      "display_name": "Python 3"
    },
    "language_info": {
      "name": "python"
    },
    "accelerator": "GPU",
    "gpuClass": "standard"
  },
  "cells": [
    {
      "cell_type": "markdown",
      "metadata": {
        "id": "view-in-github",
        "colab_type": "text"
      },
      "source": [
        "<a href=\"https://colab.research.google.com/github/antonkozhukhov/breeds/blob/main/dog_breeds.ipynb\" target=\"_parent\"><img src=\"https://colab.research.google.com/assets/colab-badge.svg\" alt=\"Open In Colab\"/></a>"
      ]
    },
    {
      "cell_type": "code",
      "execution_count": 7,
      "metadata": {
        "colab": {
          "base_uri": "https://localhost:8080/"
        },
        "id": "Vow2IHByop7N",
        "outputId": "7877eb97-68c6-4de4-cb58-aa907bcd382f"
      },
      "outputs": [
        {
          "output_type": "stream",
          "name": "stdout",
          "text": [
            "Yes, GPU is used\n",
            "loading model...\n",
            "Looking in indexes: https://pypi.org/simple, https://us-python.pkg.dev/colab-wheels/public/simple/\n",
            "Requirement already satisfied: flask-cors in /usr/local/lib/python3.10/dist-packages (3.0.10)\n",
            "Requirement already satisfied: Flask>=0.9 in /usr/local/lib/python3.10/dist-packages (from flask-cors) (2.2.4)\n",
            "Requirement already satisfied: Six in /usr/local/lib/python3.10/dist-packages (from flask-cors) (1.16.0)\n",
            "Requirement already satisfied: Werkzeug>=2.2.2 in /usr/local/lib/python3.10/dist-packages (from Flask>=0.9->flask-cors) (2.3.0)\n",
            "Requirement already satisfied: Jinja2>=3.0 in /usr/local/lib/python3.10/dist-packages (from Flask>=0.9->flask-cors) (3.1.2)\n",
            "Requirement already satisfied: itsdangerous>=2.0 in /usr/local/lib/python3.10/dist-packages (from Flask>=0.9->flask-cors) (2.1.2)\n",
            "Requirement already satisfied: click>=8.0 in /usr/local/lib/python3.10/dist-packages (from Flask>=0.9->flask-cors) (8.1.3)\n",
            "Requirement already satisfied: MarkupSafe>=2.0 in /usr/local/lib/python3.10/dist-packages (from Jinja2>=3.0->Flask>=0.9->flask-cors) (2.1.2)\n"
          ]
        },
        {
          "output_type": "stream",
          "name": "stderr",
          "text": [
            "WARNING:flask_cors.core:Unknown option passed to Flask-CORS: resource\n",
            "WARNING:flask_cors.core:Unknown option passed to Flask-CORS: resource\n"
          ]
        },
        {
          "output_type": "stream",
          "name": "stdout",
          "text": [
            " * Serving Flask app '__main__'\n",
            " * Debug mode: off\n"
          ]
        },
        {
          "output_type": "stream",
          "name": "stderr",
          "text": [
            "Address already in use\n",
            "Port 5000 is in use by another program. Either identify and stop that program, or start the server with a different port.\n"
          ]
        },
        {
          "output_type": "stream",
          "name": "stdout",
          "text": [
            "\u001b[K\u001b[?25h/tools/node/bin/lt -> /tools/node/lib/node_modules/localtunnel/bin/lt.js\n",
            "+ localtunnel@2.0.2\n",
            "updated 1 package in 0.777s\n",
            "your url is: https://breeds1988.loca.lt\n",
            "^C\n",
            "nohup: appending output to 'nohup.out'\n"
          ]
        }
      ],
      "source": [
        "import tensorflow as tf\n",
        "import tensorflow_hub as hub\n",
        "print(\"Yes, GPU is used\" if tf.config.list_physical_devices(\"GPU\") else \"No, GPU is not used\")\n",
        "import pandas as pd\n",
        "import numpy as np\n",
        "import io, base64\n",
        "\n",
        "#finding unique labels of breeds\n",
        "labels = pd.read_csv('drive/MyDrive/dog-vision/labels.csv')\n",
        "unique_labels = np.unique(labels['breed'])\n",
        "\n",
        "IMG_SIZE = 224\n",
        "\n",
        "def process_image(path):\n",
        "  \"\"\"\n",
        "  create image tensor from image\n",
        "  \n",
        "  \"\"\"\n",
        "  image = tf.io.read_file(path)\n",
        "  image = tf.image.decode_jpeg(image, channels=3)\n",
        "  image = tf.image.convert_image_dtype(image, tf.float32)\n",
        "  image = tf.image.resize(image, size=[IMG_SIZE, IMG_SIZE])\n",
        "  return image\n",
        "\n",
        "BATCH_SIZE = 32\n",
        "\n",
        "def create_data_batches(X, y=None, batch_size=BATCH_SIZE):\n",
        "  \"\"\"\n",
        "  create data batches from image\n",
        "  \n",
        "  \"\"\"\n",
        "  print(\"creating test data batches...\")\n",
        "  data = tf.data.Dataset.from_tensors((tf.constant(X)))\n",
        "  data_batch = data.map(process_image).batch(BATCH_SIZE)\n",
        "  return data_batch\n",
        "  \n",
        "def load_model(model_path):\n",
        "  \"\"\"\n",
        "  loads the model from model path\n",
        "  \n",
        "  \"\"\"\n",
        "  print(\"loading model...\")\n",
        "  model = tf.keras.models.load_model(model_path,\n",
        "                                     custom_objects={\"KerasLayer\":hub.KerasLayer})\n",
        "  return model\n",
        "\n",
        "\n",
        "path = 'drive/MyDrive/dog-vision/model/20230422-081712-dogs_5steps.h5'\n",
        "load_model = load_model(path)\n",
        "\n",
        "def create_list_of_breeds(b64_string):\n",
        "  \"\"\"\n",
        "  creates the list of 3 most probable breed predictions.\n",
        "  converts b64_string to jpg image and then using model loaded finds \n",
        "  all breed predictions\n",
        "  \n",
        "  \"\"\"\n",
        "  temporary_image = 'drive/MyDrive/dog-vision/current_image.jpg'\n",
        "  with open(temporary_image, \"wb\") as fh:\n",
        "    fh.write(base64.decodebytes(b64_string))\n",
        "  val_data = create_data_batches(temporary_image)\n",
        "  predictions = load_model.predict(val_data, verbose=1)\n",
        "  pred_n = unique_labels[np.argsort(predictions[0])][-3:][::-1]\n",
        "  return pred_n.tolist()\n",
        "\n",
        "# Creating local sever on 5000 Port  using Flask\n",
        "\n",
        "!pip install -U flask-cors\n",
        "from flask import *\n",
        "from flask_cors import CORS, cross_origin\n",
        "\n",
        "app = Flask(__name__)\n",
        "cors = CORS(app)\n",
        "cors = CORS(app, resource={\n",
        "    r\"/*\":{\n",
        "        \"origins\":\"*\"\n",
        "    }\n",
        "})\n",
        "app.config['CORS_HEADERS'] = 'Content-Type'\n",
        "@app.route('/', methods=['POST'])\n",
        "@cross_origin(allow_headers=['Content-Type'])\n",
        "def home():\n",
        "  resp = app.make_default_options_response()\n",
        "  h = resp.headers\n",
        "  content_length = int(request.headers['Content-Length'])\n",
        "  response = app.response_class(\n",
        "        response=json.dumps(create_list_of_breeds(request.data)),\n",
        "        status=200,\n",
        "        mimetype='application/json'\n",
        "    )\n",
        "  return response\n",
        "import threading\n",
        "threading.Thread(target=app.run, kwargs={'host':'0.0.0.0','port':5000}).start()\n",
        "\n",
        "# Creating unique subdomain using localtunnel\n",
        "\n",
        "!npm install -g localtunnel\n",
        "!lt -p 5000 --subdomain breeds1988 \n",
        "!nohup lt --port 5000 --subdomain breeds1988 &"
      ]
    },
    {
      "cell_type": "markdown",
      "source": [],
      "metadata": {
        "id": "h1wZj-O_plw-"
      }
    }
  ]
}